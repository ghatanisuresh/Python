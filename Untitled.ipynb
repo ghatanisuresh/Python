{
 "cells": [
  {
   "cell_type": "code",
   "execution_count": 15,
   "id": "23117a92",
   "metadata": {},
   "outputs": [],
   "source": []
  },
  {
   "cell_type": "code",
   "execution_count": 32,
   "id": "8c8e05ff",
   "metadata": {},
   "outputs": [],
   "source": [
    "import re"
   ]
  },
  {
   "cell_type": "code",
   "execution_count": 33,
   "id": "8ba03cc2",
   "metadata": {},
   "outputs": [],
   "source": [
    "input_encoding = 'utf-8' \n",
    "output_encoding='utf-8'\n",
    "\n",
    "\n",
    "# Read the input JSON data from a file\n",
    "input_file_path='10000_tweets_1.json' \n",
    "output_file_path = '10000_tweets_cleaned.json'\n",
    "\n",
    "#Read the file content\n",
    "with open(input_file_path, 'r', encoding=input_encoding) as file: \n",
    "    content=file.read()\n",
    "    \n",
    "# Remove the /* 10000 Tweets */ comment at the beginning of the file\n",
    "content = re.sub (r'/\\* 10000 Tweets \\*/', '', content, count=1)\n",
    "                  \n",
    "#Add '[' at the beginning and ']' at the end\n",
    "content = \"[\" + content + \"]\"\n",
    "\n",
    "# Define a regular expression pattern to match /* followed by digits and then */\n",
    "pattern= re.compile(r'/\\* \\d+ \\*/')\n",
    "                \n",
    "#Replace the first occurrence with an empty string\n",
    "content = pattern.sub(\"\", content, 1)\n",
    "#Replace all occurrences of the pattern with a comma\n",
    "content = pattern.sub(',', content)\n",
    "# Save the modified content back to the file\n",
    "with open(output_file_path, 'w', encoding=output_encoding) as file: \n",
    "    file.write(content)"
   ]
  },
  {
   "cell_type": "code",
   "execution_count": null,
   "id": "51feb354",
   "metadata": {},
   "outputs": [],
   "source": [
    "#Step 2\n",
    "#Remove all objectId and Numbering recursively from the file"
   ]
  },
  {
   "cell_type": "code",
   "execution_count": null,
   "id": "291fd9f4",
   "metadata": {},
   "outputs": [],
   "source": []
  },
  {
   "cell_type": "code",
   "execution_count": 30,
   "id": "a7c89bf2",
   "metadata": {},
   "outputs": [
    {
     "ename": "NameError",
     "evalue": "name 'o' is not defined",
     "output_type": "error",
     "traceback": [
      "\u001b[1;31m---------------------------------------------------------------------------\u001b[0m",
      "\u001b[1;31mNameError\u001b[0m                                 Traceback (most recent call last)",
      "Input \u001b[1;32mIn [30]\u001b[0m, in \u001b[0;36m<cell line: 6>\u001b[1;34m()\u001b[0m\n\u001b[0;32m      3\u001b[0m output_file_path \u001b[38;5;241m=\u001b[39m \u001b[38;5;124m\"\u001b[39m\u001b[38;5;124m10000_tweets_cleaned_final.json\u001b[39m\u001b[38;5;124m\"\u001b[39m\n\u001b[0;32m      5\u001b[0m \u001b[38;5;66;03m# Open the input file for reading and the output file for writing\u001b[39;00m\n\u001b[1;32m----> 6\u001b[0m \u001b[38;5;28;01mwith\u001b[39;00m \u001b[38;5;28mopen\u001b[39m(input_file_path, \u001b[38;5;124m'\u001b[39m\u001b[38;5;124mr\u001b[39m\u001b[38;5;124m'\u001b[39m, encoding\u001b[38;5;241m=\u001b[39minput_encoding) \u001b[38;5;28;01mas\u001b[39;00m input_file, \u001b[38;5;28mopen\u001b[39m(output_file_path, \u001b[38;5;124m'\u001b[39m\u001b[38;5;124mw\u001b[39m\u001b[38;5;124m'\u001b[39m, encoding\u001b[38;5;241m=\u001b[39m\u001b[43mo\u001b[49m):\n\u001b[0;32m      7\u001b[0m     \u001b[38;5;66;03m# Read the input file Line by Line\u001b[39;00m\n\u001b[0;32m      8\u001b[0m     \u001b[38;5;28;01mfor\u001b[39;00m line \u001b[38;5;129;01min\u001b[39;00m input_file:\n\u001b[0;32m      9\u001b[0m         \u001b[38;5;66;03m# Check if the Line contains 'ObjectId' or 'NumberLong'\u001b[39;00m\n\u001b[0;32m     10\u001b[0m         \u001b[38;5;28;01mif\u001b[39;00m \u001b[38;5;124m'\u001b[39m\u001b[38;5;124mObjectid\u001b[39m\u001b[38;5;124m'\u001b[39m \u001b[38;5;129;01mnot\u001b[39;00m \u001b[38;5;129;01min\u001b[39;00m line \u001b[38;5;129;01mand\u001b[39;00m \u001b[38;5;124m'\u001b[39m\u001b[38;5;124mNumberLong\u001b[39m\u001b[38;5;124m'\u001b[39m \u001b[38;5;129;01mnot\u001b[39;00m \u001b[38;5;129;01min\u001b[39;00m line:\n\u001b[0;32m     11\u001b[0m             \u001b[38;5;66;03m# If neither string is found, write the Line to the output file\u001b[39;00m\n",
      "\u001b[1;31mNameError\u001b[0m: name 'o' is not defined"
     ]
    }
   ],
   "source": [
    "\n",
    "# Specify the input and output file paths\n",
    "input_file_path = \"10000_tweets_cleaned.json\"\n",
    "output_file_path = \"10000_tweets_cleaned_final.json\"\n",
    "\n",
    "# Open the input file for reading and the output file for writing\n",
    "with open(input_file_path, 'r', encoding=input_encoding) as input_file, open(output_file_path, 'w', encoding=o):\n",
    "    # Read the input file Line by Line\n",
    "    for line in input_file:\n",
    "        # Check if the Line contains 'ObjectId' or 'NumberLong'\n",
    "        if 'Objectid' not in line and 'NumberLong' not in line:\n",
    "            # If neither string is found, write the Line to the output file\n",
    "            output_file.write(line)\n",
    "#print o message to indicate the operation is complete\n",
    "print(\"File cleaned and saved as:\", output_file_path)\n",
    "#ile cleaned and saved as: 10000_tweets_cleaned_final.json\n"
   ]
  },
  {
   "cell_type": "code",
   "execution_count": 34,
   "id": "e3c31b09",
   "metadata": {},
   "outputs": [
    {
     "name": "stdout",
     "output_type": "stream",
     "text": [
      "File cleaned and saved as: 10000_tweets_cleaned_final.json\n"
     ]
    }
   ],
   "source": [
    "# Specify the input and output file paths\n",
    "input_file_path = \"10000_tweets_cleaned.json\"\n",
    "output_file_path = \"10000_tweets_cleaned_final.json\"\n",
    "\n",
    "# Open the input file for reading and the output file for writing\n",
    "with open(input_file_path, 'r', encoding='utf-8') as input_file, open(output_file_path, 'w', encoding='utf-8') as output_file:\n",
    "    # Read the input file line by line\n",
    "    for line in input_file:\n",
    "        # Check if the line contains 'ObjectId' or 'NumberLong'\n",
    "        if 'ObjectId' not in line and 'NumberLong' not in line:\n",
    "            # If neither string is found, write the line to the output file\n",
    "            output_file.write(line)\n",
    "\n",
    "# Print a message to indicate the operation is complete\n",
    "print(\"File cleaned and saved as:\", output_file_path)\n"
   ]
  },
  {
   "cell_type": "code",
   "execution_count": null,
   "id": "ed8a87a3",
   "metadata": {},
   "outputs": [],
   "source": []
  },
  {
   "cell_type": "code",
   "execution_count": null,
   "id": "7bcb6009",
   "metadata": {},
   "outputs": [],
   "source": []
  },
  {
   "cell_type": "code",
   "execution_count": null,
   "id": "dcaac1e3",
   "metadata": {},
   "outputs": [],
   "source": []
  }
 ],
 "metadata": {
  "kernelspec": {
   "display_name": "Python 3 (ipykernel)",
   "language": "python",
   "name": "python3"
  },
  "language_info": {
   "codemirror_mode": {
    "name": "ipython",
    "version": 3
   },
   "file_extension": ".py",
   "mimetype": "text/x-python",
   "name": "python",
   "nbconvert_exporter": "python",
   "pygments_lexer": "ipython3",
   "version": "3.10.4"
  }
 },
 "nbformat": 4,
 "nbformat_minor": 5
}
